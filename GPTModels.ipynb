{
 "cells": [
  {
   "metadata": {},
   "cell_type": "markdown",
   "source": "# Setting Up API",
   "id": "b3d9df0bbc36ae2c"
  },
  {
   "cell_type": "code",
   "id": "initial_id",
   "metadata": {
    "collapsed": true,
    "ExecuteTime": {
     "end_time": "2025-05-23T21:06:48.934118Z",
     "start_time": "2025-05-23T21:06:48.926214Z"
    }
   },
   "source": [
    "import openai\n",
    "import config"
   ],
   "outputs": [],
   "execution_count": 2
  },
  {
   "metadata": {
    "ExecuteTime": {
     "end_time": "2025-05-23T21:06:49.413735Z",
     "start_time": "2025-05-23T21:06:49.410902Z"
    }
   },
   "cell_type": "code",
   "source": "api_key = config.API_key",
   "id": "e23f5b598acff10d",
   "outputs": [],
   "execution_count": 3
  },
  {
   "metadata": {
    "ExecuteTime": {
     "end_time": "2025-05-23T21:14:01.384961Z",
     "start_time": "2025-05-23T21:14:01.317735Z"
    }
   },
   "cell_type": "code",
   "source": "client = openai.OpenAI(api_key = api_key)",
   "id": "917713d371de3623",
   "outputs": [],
   "execution_count": 8
  },
  {
   "metadata": {},
   "cell_type": "markdown",
   "source": "# Generating Text",
   "id": "9a07a4a30f085cf2"
  },
  {
   "metadata": {
    "ExecuteTime": {
     "end_time": "2025-05-23T23:33:12.199475Z",
     "start_time": "2025-05-23T23:33:12.183876Z"
    }
   },
   "cell_type": "code",
   "source": [
    "def generative_text(prompt):\n",
    "    reponse = client.completions.create(\n",
    "        model=\"davinci-002\",\n",
    "        prompt=prompt,\n",
    "        max_tokens=10, # Number of text\n",
    "        temperature=0.7 # Amount of Randomness\n",
    "    )\n",
    "    return reponse.choices[0].text.strip()"
   ],
   "id": "b397c662661e6b8e",
   "outputs": [],
   "execution_count": 45
  },
  {
   "metadata": {
    "ExecuteTime": {
     "end_time": "2025-05-23T23:33:12.963225Z",
     "start_time": "2025-05-23T23:33:12.955272Z"
    }
   },
   "cell_type": "code",
   "source": "prompt = \"Once upon a time\"",
   "id": "e2baf404986aa173",
   "outputs": [],
   "execution_count": 46
  },
  {
   "metadata": {
    "ExecuteTime": {
     "end_time": "2025-05-23T23:33:16.426356Z",
     "start_time": "2025-05-23T23:33:14.696026Z"
    }
   },
   "cell_type": "code",
   "source": [
    "generated_text = generative_text(prompt)\n",
    "print(prompt, generated_text)"
   ],
   "id": "9ab1ed06df3d52ee",
   "outputs": [
    {
     "name": "stdout",
     "output_type": "stream",
     "text": [
      "Once upon a time , a young man named John Smith was on a\n"
     ]
    }
   ],
   "execution_count": 47
  },
  {
   "metadata": {},
   "cell_type": "markdown",
   "source": "# Text Summarize",
   "id": "aac5f69fa9067ea"
  },
  {
   "metadata": {
    "ExecuteTime": {
     "end_time": "2025-05-23T23:33:19.008838Z",
     "start_time": "2025-05-23T23:33:18.994832Z"
    }
   },
   "cell_type": "code",
   "source": [
    "def text_summarizer(prompt):\n",
    "    response = openai.chat.completions.create(\n",
    "      model=\"gpt-3.5-turbo\",\n",
    "      messages=[\n",
    "        {\n",
    "          \"role\": \"system\",\n",
    "          \"content\": \"You will be provided with a block of text, and your task is to extract a list of keywords from it.\"\n",
    "        },\n",
    "        {\n",
    "          \"role\": \"user\",\n",
    "          \"content\": \"A flying saucer seen by a guest house, a 7ft alien-like figure coming out of a hedge and a \\\"cigar-shaped\\\" UFO near a school yard.\\n\\nThese are just some of the 450 reported extraterrestrial encounters from one of the UK's largest mass sightings in a remote Welsh village.\\n\\nThe village of Broad Haven has since been described as the \\\"Bermuda Triangle\\\" of mysterious craft sightings and sightings of strange beings.\\n\\nResidents who reported these encounters across a single year in the late seventies have now told their story to the new Netflix documentary series 'Encounters', made by Steven Spielberg's production company.\\n\\nIt all happened back in 1977, when the Cold War was at its height and Star Wars and Close Encounters of the Third Kind - Spielberg's first science fiction blockbuster - dominated the box office.\"\n",
    "        },\n",
    "        {\n",
    "          \"role\": \"assistant\",\n",
    "          \"content\": \"flying saucer, guest house, 7ft alien-like figure, hedge, cigar-shaped UFO, school yard, extraterrestrial encounters, UK, mass sightings, remote Welsh village, Broad Haven, Bermuda Triangle, mysterious craft sightings, strange beings, residents, single year, late seventies, Netflix documentary series, Steven Spielberg, production company, 1977, Cold War, Star Wars, Close Encounters of the Third Kind, science fiction blockbuster, box office.\"\n",
    "        },\n",
    "        {\n",
    "          \"role\": \"user\",\n",
    "          \"content\": \"Each April, in the village of Maeliya in northwest Sri Lanka, Pinchal Weldurelage Siriwardene gathers his community under the shade of a large banyan tree. The tree overlooks a human-made body of water called a wewa – meaning reservoir or \\\"tank\\\" in Sinhala. The wewa stretches out besides the village's rice paddies for 175-acres (708,200 sq m) and is filled with the rainwater of preceding months.    \\n\\nSiriwardene, the 76-year-old secretary of the village's agrarian committee, has a tightly-guarded ritual to perform. By boiling coconut milk on an open hearth beside the tank, he will seek blessings for a prosperous harvest from the deities residing in the tree. \\\"It's only after that we open the sluice gate to water the rice fields,\\\" he told me when I visited on a scorching mid-April afternoon.\\n\\nBy releasing water into irrigation canals below, the tank supports the rice crop during the dry months before the rains arrive. For nearly two millennia, lake-like water bodies such as this have helped generations of farmers cultivate their fields. An old Sinhala phrase, \\\"wewai dagabai gamai pansalai\\\", even reflects the technology's centrality to village life; meaning \\\"tank, pagoda, village and temple\\\".\"\n",
    "        },\n",
    "        {\n",
    "          \"role\": \"assistant\",\n",
    "          \"content\": \"April, Maeliya, northwest Sri Lanka, Pinchal Weldurelage Siriwardene, banyan tree, wewa, reservoir, tank, Sinhala, rice paddies, 175-acres, 708,200 sq m, rainwater, agrarian committee, coconut milk, open hearth, blessings, prosperous harvest, deities, sluice gate, rice fields, irrigation canals, dry months, rains, lake-like water bodies, farmers, cultivate, Sinhala phrase, technology, village life, pagoda, temple.\"\n",
    "        },\n",
    "        {\n",
    "          \"role\": \"user\",\n",
    "          \"content\": prompt\n",
    "        }\n",
    "      ],\n",
    "      temperature=0.5,\n",
    "      max_tokens=256\n",
    "    )\n",
    "    return response.choices[0].message.content.strip()"
   ],
   "id": "c69164268ec1a4ba",
   "outputs": [],
   "execution_count": 48
  },
  {
   "metadata": {
    "ExecuteTime": {
     "end_time": "2025-05-23T23:33:21.954162Z",
     "start_time": "2025-05-23T23:33:21.939651Z"
    }
   },
   "cell_type": "code",
   "source": [
    "prompt = \"Master Reef Guide Kirsty Whitman didn't need to tell me twice. Peering down through my snorkel mask in the direction of her pointed finger, I spotted a huge male manta ray trailing a female in perfect sync – an effort to impress a potential mate, exactly as Whitman had described during her animated presentation the previous evening. Having some knowledge of what was unfolding before my eyes on our snorkelling safari made the encounter even more magical as I kicked against the current to admire this intimate undersea ballet for a few precious seconds more.\"\n",
    "print(prompt)"
   ],
   "id": "89823d40ea47ce20",
   "outputs": [
    {
     "name": "stdout",
     "output_type": "stream",
     "text": [
      "Master Reef Guide Kirsty Whitman didn't need to tell me twice. Peering down through my snorkel mask in the direction of her pointed finger, I spotted a huge male manta ray trailing a female in perfect sync – an effort to impress a potential mate, exactly as Whitman had described during her animated presentation the previous evening. Having some knowledge of what was unfolding before my eyes on our snorkelling safari made the encounter even more magical as I kicked against the current to admire this intimate undersea ballet for a few precious seconds more.\n"
     ]
    }
   ],
   "execution_count": 49
  },
  {
   "metadata": {
    "ExecuteTime": {
     "end_time": "2025-05-23T23:33:29.007870Z",
     "start_time": "2025-05-23T23:33:22.631642Z"
    }
   },
   "cell_type": "code",
   "source": "text_summarizer(prompt)",
   "id": "8a8bc301916f62b5",
   "outputs": [
    {
     "data": {
      "text/plain": [
       "'Master Reef Guide, Kirsty Whitman, snorkel mask, male manta ray, female, sync, potential mate, presentation, snorkelling safari, encounter, magical, current, undersea ballet.'"
      ]
     },
     "execution_count": 50,
     "metadata": {},
     "output_type": "execute_result"
    }
   ],
   "execution_count": 50
  },
  {
   "metadata": {},
   "cell_type": "markdown",
   "source": "# Poetic Chatbot",
   "id": "2afbbe5fcdcc9b8f"
  },
  {
   "metadata": {
    "ExecuteTime": {
     "end_time": "2025-05-23T23:34:22.998992Z",
     "start_time": "2025-05-23T23:34:22.978318Z"
    }
   },
   "cell_type": "code",
   "source": [
    "def poetic_chatbot(prompt):\n",
    "    response = openai.chat.completions.create(\n",
    "        model = \"gpt-3.5-turbo\",\n",
    "        messages = [\n",
    "            {\n",
    "                \"role\": \"system\",\n",
    "                \"content\" : \"You are a poetic chatbot.\"\n",
    "            },\n",
    "            {\n",
    "                \"role\": \"user\",\n",
    "                \"content\" : \"When was Google founded?\"\n",
    "            },\n",
    "            {\n",
    "                \"role\": \"assistant\",\n",
    "                \"content\" : \"In the late '90s, a spark did ignite, Google emerged, a radiant light. By Larry and Sergey, in '98, it was born, a search engine new, on the web it was sworn.\"\n",
    "            },\n",
    "            {\n",
    "                \"role\" : \"user\",\n",
    "                \"content\" : \"Which country has the youngest president?\"\n",
    "            },\n",
    "            {\n",
    "                \"role\": \"assistant\",\n",
    "                \"content\" : \"Ah, the pursuit of youth in politics, a theme we explore. In Austria, Sebastian Kurz did implore, at the age of 31, his journey did begin, leading with vigor, in a world filled with din.\"\n",
    "            },\n",
    "            {\n",
    "                \"role\": \"user\",\n",
    "                \"content\" : prompt\n",
    "            }\n",
    "        ],\n",
    "        temperature=1,\n",
    "        max_tokens=256\n",
    "    )\n",
    "    return response.choices[0].message.content.strip()"
   ],
   "id": "ca1c2632856f28a4",
   "outputs": [],
   "execution_count": 56
  },
  {
   "metadata": {
    "ExecuteTime": {
     "end_time": "2025-05-23T23:34:24.975966Z",
     "start_time": "2025-05-23T23:34:23.550490Z"
    }
   },
   "cell_type": "code",
   "source": [
    "prompt = \"When was cheese first made?\"\n",
    "poetic_chatbot(prompt)"
   ],
   "id": "441816a09ded346a",
   "outputs": [
    {
     "data": {
      "text/plain": [
       "'In ancient times, a discovery divine, cheese was born from milk, a culinary design. Thousands of years ago, in lands far and wide, this delicious creation, with pride, was espied. So celebrate the cheese, in all its glory, a timeless delight, with a wonderful story.'"
      ]
     },
     "execution_count": 57,
     "metadata": {},
     "output_type": "execute_result"
    }
   ],
   "execution_count": 57
  },
  {
   "metadata": {},
   "cell_type": "markdown",
   "source": "# Langchain",
   "id": "d17ce330e5221b0b"
  },
  {
   "metadata": {
    "ExecuteTime": {
     "end_time": "2025-05-23T23:34:28.846053Z",
     "start_time": "2025-05-23T23:34:28.823835Z"
    }
   },
   "cell_type": "code",
   "source": [
    "from langchain.document_loaders import WebBaseLoader\n",
    "from langchain.text_splitter import RecursiveCharacterTextSplitter\n",
    "from langchain.embeddings import OpenAIEmbeddings\n",
    "from langchain.vectorstores import FAISS\n",
    "from langchain.memory import ConversationBufferMemory\n",
    "from langchain.llms import OpenAI\n",
    "from langchain.chains import ConversationalRetrievalChain\n",
    "from langchain.chat_models import ChatOpenAI"
   ],
   "id": "6e7d1661012a6601",
   "outputs": [],
   "execution_count": 58
  },
  {
   "metadata": {
    "ExecuteTime": {
     "end_time": "2025-05-23T23:34:29.233267Z",
     "start_time": "2025-05-23T23:34:29.228487Z"
    }
   },
   "cell_type": "code",
   "source": "url = \"https://365datascience.com/upcoming-courses\"",
   "id": "fc862ffda3716af0",
   "outputs": [],
   "execution_count": 59
  },
  {
   "metadata": {
    "ExecuteTime": {
     "end_time": "2025-05-23T23:34:29.662863Z",
     "start_time": "2025-05-23T23:34:29.646165Z"
    }
   },
   "cell_type": "code",
   "source": "loader = WebBaseLoader(url)",
   "id": "6a75132f3c9c4825",
   "outputs": [],
   "execution_count": 60
  },
  {
   "metadata": {
    "ExecuteTime": {
     "end_time": "2025-05-23T23:34:32.271255Z",
     "start_time": "2025-05-23T23:34:30.024037Z"
    }
   },
   "cell_type": "code",
   "source": "raw_document = loader.load()",
   "id": "56a19ff6eba3431c",
   "outputs": [],
   "execution_count": 61
  },
  {
   "metadata": {
    "ExecuteTime": {
     "end_time": "2025-05-23T23:34:32.288974Z",
     "start_time": "2025-05-23T23:34:32.284899Z"
    }
   },
   "cell_type": "code",
   "source": [
    "text_splitter = RecursiveCharacterTextSplitter()\n",
    "documents = text_splitter.split_documents(raw_document)"
   ],
   "id": "4351fe422593bf1b",
   "outputs": [],
   "execution_count": 62
  },
  {
   "metadata": {
    "ExecuteTime": {
     "end_time": "2025-05-23T23:34:32.340253Z",
     "start_time": "2025-05-23T23:34:32.300186Z"
    }
   },
   "cell_type": "code",
   "source": "embeddings = OpenAIEmbeddings(openai_api_key = api_key)",
   "id": "eab1c405eff6cf59",
   "outputs": [],
   "execution_count": 63
  },
  {
   "metadata": {
    "ExecuteTime": {
     "end_time": "2025-05-23T23:34:34.153093Z",
     "start_time": "2025-05-23T23:34:32.350572Z"
    }
   },
   "cell_type": "code",
   "source": "vectorstore = FAISS.from_documents(documents ,embeddings)",
   "id": "3122a9072ab107b9",
   "outputs": [],
   "execution_count": 64
  },
  {
   "metadata": {
    "ExecuteTime": {
     "end_time": "2025-05-23T23:39:25.361625Z",
     "start_time": "2025-05-23T23:39:25.358456Z"
    }
   },
   "cell_type": "code",
   "source": "memory = ConversationBufferMemory(memory_key=\"chat_history\", return_messages=True)",
   "id": "d59a72a974c2ea70",
   "outputs": [],
   "execution_count": 67
  },
  {
   "metadata": {
    "ExecuteTime": {
     "end_time": "2025-05-23T23:46:02.414075Z",
     "start_time": "2025-05-23T23:46:02.370377Z"
    }
   },
   "cell_type": "code",
   "source": [
    "qa = ConversationalRetrievalChain.from_llm(ChatOpenAI(api_key=api_key,\n",
    "                                                      model = \"gpt-3.5-turbo\",\n",
    "                                                      temperature = 0),\n",
    "                                                      vectorstore.as_retriever(),\n",
    "                                                      memory = memory,\n",
    "                                                      )"
   ],
   "id": "1fef293a5f8898b2",
   "outputs": [],
   "execution_count": 72
  },
  {
   "metadata": {
    "ExecuteTime": {
     "end_time": "2025-05-23T23:46:03.368083Z",
     "start_time": "2025-05-23T23:46:03.363208Z"
    }
   },
   "cell_type": "code",
   "source": "query = \"What is the next course to be uploaded on the 365datascience platform?\"",
   "id": "e885e66d739876f6",
   "outputs": [],
   "execution_count": 73
  },
  {
   "metadata": {
    "ExecuteTime": {
     "end_time": "2025-05-23T23:46:05.892163Z",
     "start_time": "2025-05-23T23:46:03.752738Z"
    }
   },
   "cell_type": "code",
   "source": "result = qa({'question': query})",
   "id": "79bd203c2e168504",
   "outputs": [],
   "execution_count": 74
  },
  {
   "metadata": {
    "ExecuteTime": {
     "end_time": "2025-05-23T23:46:18.834763Z",
     "start_time": "2025-05-23T23:46:18.824303Z"
    }
   },
   "cell_type": "code",
   "source": "result['answer']",
   "id": "54007300d92fede0",
   "outputs": [
    {
     "data": {
      "text/plain": [
       "'The next course to be uploaded on the 365datascience platform is \"Deep Learning with PyTorch\" with Gaurav Sarkar. It is scheduled to launch in May 2025.'"
      ]
     },
     "execution_count": 75,
     "metadata": {},
     "output_type": "execute_result"
    }
   ],
   "execution_count": 75
  },
  {
   "metadata": {},
   "cell_type": "code",
   "outputs": [],
   "execution_count": null,
   "source": "",
   "id": "85c61c4591a9cf03"
  }
 ],
 "metadata": {
  "kernelspec": {
   "display_name": "Python 3",
   "language": "python",
   "name": "python3"
  },
  "language_info": {
   "codemirror_mode": {
    "name": "ipython",
    "version": 2
   },
   "file_extension": ".py",
   "mimetype": "text/x-python",
   "name": "python",
   "nbconvert_exporter": "python",
   "pygments_lexer": "ipython2",
   "version": "2.7.6"
  }
 },
 "nbformat": 4,
 "nbformat_minor": 5
}
